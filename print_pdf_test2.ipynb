{
 "cells": [
  {
   "cell_type": "code",
   "execution_count": 1,
   "metadata": {},
   "outputs": [],
   "source": [
    "import numpy as np\n",
    "from PIL import Image\n",
    "import re\n",
    "from css_parser import *\n",
    "from fpdf import FPDF\n",
    "from color_utils import *\n",
    "import os.path\n",
    "from fpdf_extention import *\n",
    "from style_blocks import *\n",
    "from md_to_pdf_converter import *\n",
    "\n",
    "%load_ext autoreload\n",
    "%autoreload 2"
   ]
  },
  {
   "cell_type": "code",
   "execution_count": 2,
   "metadata": {},
   "outputs": [
    {
     "name": "stdout",
     "output_type": "stream",
     "text": [
      "### Онбординг\n",
      "Введение в дела компании и проекты, презентация. Текущий прогресс\n",
      "### Обучение\n",
      "Карта развития специалиста - навыки = рост в квалификации и ЗП\n",
      "Материалы для изучения\n",
      "### Стажировки\n",
      "Что делать с \"нулёвыми\" челиками и челиками не готовыми пока работать. Давать задания на \"погрызть\"?\n",
      "### Тестовые задания\n",
      "Одно на юнити уже есть, нужно подумать про их сложность и сами темы\n",
      "### Проведение собесов\n",
      "На какой уровень мы расчитываем, кого исчем\n",
      "Соответвенно какие вопросы задаём\n",
      "### Летняя школа\n",
      "Темы, проекты, время проведения, набор людей, сертификаты\n",
      "### Деление задач по сложности\n",
      " Деление задач по сложности чтобы скармливать их нужным людям\n",
      " [задачи 3D](https://docs.google.com/document/d/18oRsP7JgvX3cVHhR3DFdZwtHZvHyu0g_Y8FeJu_ciNA/edit)\n",
      "\n"
     ]
    }
   ],
   "source": [
    "file_text = read_contents(\"MDtest.md\")\n",
    "print(file_text)"
   ]
  },
  {
   "cell_type": "code",
   "execution_count": 3,
   "metadata": {},
   "outputs": [
    {
     "data": {
      "text/plain": [
       "{'--dark0': '#2e3440',\n",
       " '--dark1': '#3b4252',\n",
       " '--dark2': '#434c5e',\n",
       " '--dark3': '#4c566a',\n",
       " '--light0': '#d8dee9',\n",
       " '--light1': '#e5e9f0',\n",
       " '--light2': '#eceff4',\n",
       " '--light3': '#ffffff',\n",
       " '--frost0': '#8fbcbb',\n",
       " '--frost1': '#88c0d0',\n",
       " '--frost2': '#81a1c1',\n",
       " '--frost3': '#5e81ac',\n",
       " '--red': '#bf616a',\n",
       " '--orange': '#d08770',\n",
       " '--yellow': '#ebcb8b',\n",
       " '--green': '#a3be8c',\n",
       " '--purple': '#b48ead',\n",
       " '--red-rgb': '255,69,58',\n",
       " '--persent1': '10%',\n",
       " '--default-font': '-apple-system,BlinkMacSystemFont,SegoeUI,\\nHelvetica,Arial,sans-serif,AppleColorEmoji,\\nSegoeUIEmoji',\n",
       " '--editor-font': \"'HackNerdFont','SourceCodePro',\\nui-monospace,SFMono-Regular,SFMono,Menlo,\\nConsolas,LiberationMono,monospace\",\n",
       " '--background-primary': '#2e3440',\n",
       " '--background-primary-alt': '#2e3440',\n",
       " '--background-secondary': '#3b4252',\n",
       " '--background-secondary-alt': '#434c5e',\n",
       " '--text-normal': '#eceff4',\n",
       " '--text-faint': '#d8dee9',\n",
       " '--text-muted': '#e5e9f0',\n",
       " '--text-title-h1': '#bf616a',\n",
       " '--text-title-h2': '#d08770',\n",
       " '--text-title-h3': '#ebcb8b',\n",
       " '--text-title-h4': '#a3be8c',\n",
       " '--text-title-h5': '#b48ead',\n",
       " '--text-title-h6': '#d08770',\n",
       " '--text-link': '#8fbcbb',\n",
       " '--text-a': '#5e81ac',\n",
       " '--text-a-hover': '#81a1c1',\n",
       " '--text-mark': '#88C0D04C',\n",
       " '--text-mark-extra': '#88C0D0',\n",
       " '--pre-code': '#3b4252',\n",
       " '--text-highlight-bg': '#A3BE8C4C',\n",
       " '--text-highlight-bg-test': '#19338C7F',\n",
       " '--text-highlight-bg-active': '#a3be8c',\n",
       " '--interactive-accent': '#8fbcbb',\n",
       " '--interactive-before': '#4c566a',\n",
       " '--background-modifier-border': '#434c5e',\n",
       " '--text-accent': '#d08770',\n",
       " '--interactive-accent-rgb': '#d08770',\n",
       " '--inline-code': '#88c0d0',\n",
       " '--code-block': '#88c0d0',\n",
       " '--vim-cursor': '#d08770',\n",
       " '--text-selection': '#4c566a',\n",
       " '--text-tag': '#8fbcbb',\n",
       " '--task-checkbox': '#8fbcbb'}"
      ]
     },
     "execution_count": 3,
     "metadata": {},
     "output_type": "execute_result"
    }
   ],
   "source": [
    "colors = get_theme_from_file(\"Obsidian Nord.css\")\n",
    "colors"
   ]
  },
  {
   "cell_type": "code",
   "execution_count": 64,
   "metadata": {},
   "outputs": [],
   "source": [
    "pool = StylePool()\n",
    "pool.doc_style.set_background_color(colors[\"--background-primary\"])\n",
    "pool.style_normal.set_font_color(colors[\"--text-normal\"])\n",
    "\n",
    "pool.style_h1.set_font_color(colors[\"--text-title-h1\"])\n",
    "pool.style_h2.set_font_color(colors[\"--text-title-h2\"])\n",
    "pool.style_h3.set_font_color(colors[\"--text-title-h3\"])\n",
    "pool.style_h4.set_font_color(colors[\"--text-title-h4\"])\n",
    "pool.style_h5.set_font_color(colors[\"--text-title-h5\"])\n",
    "pool.style_h6.set_font_color(colors[\"--text-title-h6\"])\n",
    "\n",
    "pool.style_code.set_font_color(colors[\"--text-normal\"])\n",
    "pool.style_code.set_background_color(colors[\"--pre-code\"])\n",
    "\n",
    "pool.style_mark.set_font_color(colors[\"--text-normal\"])\n",
    "pool.style_mark.set_background_color(colors[\"--pre-code\"])"
   ]
  },
  {
   "cell_type": "code",
   "execution_count": 65,
   "metadata": {},
   "outputs": [
    {
     "data": {
      "text/plain": [
       "''"
      ]
     },
     "execution_count": 65,
     "metadata": {},
     "output_type": "execute_result"
    }
   ],
   "source": [
    "\n",
    "blocks = [H1Block(pool), H2Block(pool), H3Block(pool), H4Block(pool), H5Block(pool), H6Block(pool), MarkBlock(pool), CodeBlock(pool)]\n",
    "pdf = PrintablePDF()\n",
    "pdf.set_doc_style(pool.doc_style)\n",
    "#pdf.add_font(\"Arial\", \"\", \"arial.ttf\", uni=True)\n",
    "#pdf.set_font('Arial', '', 14)\n",
    "\n",
    "convert_md(file_text, pdf, blocks, pool)\n",
    "\n",
    "pdf.output(\"mygfg.pdf\")   "
   ]
  },
  {
   "cell_type": "code",
   "execution_count": 66,
   "metadata": {},
   "outputs": [
    {
     "data": {
      "text/plain": [
       "''"
      ]
     },
     "execution_count": 66,
     "metadata": {},
     "output_type": "execute_result"
    }
   ],
   "source": [
    "pdf = PrintablePDF()\n",
    "pdf.add_page()\n",
    "pdf.add_font('Arial', 'B', 'arial_bold.ttf', uni=True)\n",
    "pdf.set_font('Arial', 'B', 14)\n",
    "pdf.cell(200, 5, txt=\"text_bold рус текст\", ln=1, align=\"C\")\n",
    "pdf.output(\"simple_demo.pdf\")"
   ]
  },
  {
   "cell_type": "code",
   "execution_count": null,
   "metadata": {},
   "outputs": [],
   "source": []
  }
 ],
 "metadata": {
  "interpreter": {
   "hash": "0d083ba42aae9f9d11237e0be732a28f2bf1430ce107b8104c51f88075f06857"
  },
  "kernelspec": {
   "display_name": "Python 3.9.7 64-bit",
   "language": "python",
   "name": "python3"
  },
  "language_info": {
   "codemirror_mode": {
    "name": "ipython",
    "version": 3
   },
   "file_extension": ".py",
   "mimetype": "text/x-python",
   "name": "python",
   "nbconvert_exporter": "python",
   "pygments_lexer": "ipython3",
   "version": "3.9.7"
  },
  "orig_nbformat": 4
 },
 "nbformat": 4,
 "nbformat_minor": 2
}

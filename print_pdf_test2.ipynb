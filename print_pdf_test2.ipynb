{
 "cells": [
  {
   "cell_type": "code",
   "execution_count": 2,
   "metadata": {},
   "outputs": [],
   "source": [
    "import numpy as np\n",
    "from PIL import Image\n",
    "import re\n",
    "from src.css.css_parser import *\n",
    "from fpdf import FPDF\n",
    "from src.css.color_utils import *\n",
    "import os.path\n",
    "from src.fpdf_extention import *\n",
    "from src.md_to_pdf_converter import *\n",
    "\n",
    "%load_ext autoreload\n",
    "%autoreload 2"
   ]
  },
  {
   "cell_type": "code",
   "execution_count": 3,
   "metadata": {},
   "outputs": [],
   "source": [
    "colors = get_theme_from_file(\"Obsidian Nord.css\")"
   ]
  },
  {
   "cell_type": "code",
   "execution_count": 4,
   "metadata": {},
   "outputs": [],
   "source": [
    "pool = StylePool()\n",
    "pool.doc_style.set_background_color(colors[\"--background-primary\"])\n",
    "pool.style_normal.set_font_color(colors[\"--text-normal\"])\n",
    "\n",
    "pool.style_h1.set_font_color(colors[\"--text-title-h1\"])\n",
    "pool.style_h2.set_font_color(colors[\"--text-title-h2\"])\n",
    "pool.style_h3.set_font_color(colors[\"--text-title-h3\"])\n",
    "pool.style_h4.set_font_color(colors[\"--text-title-h4\"])\n",
    "pool.style_h5.set_font_color(colors[\"--text-title-h5\"])\n",
    "pool.style_h6.set_font_color(colors[\"--text-title-h6\"])\n",
    "\n",
    "pool.style_code.set_font_color(colors[\"--text-normal\"])\n",
    "pool.style_code.set_background_color(colors[\"--pre-code\"])\n",
    "\n",
    "pool.style_mark.set_font_color(colors[\"--text-normal\"])\n",
    "pool.style_mark.set_background_color(colors[\"--pre-code\"])"
   ]
  },
  {
   "cell_type": "code",
   "execution_count": 5,
   "metadata": {},
   "outputs": [],
   "source": [
    "file_text = read_contents(\"MDtest.md\")"
   ]
  },
  {
   "cell_type": "code",
   "execution_count": 8,
   "metadata": {},
   "outputs": [
    {
     "name": "stdout",
     "output_type": "stream",
     "text": [
      "\n",
      "2  \n",
      "2  \n",
      "&new line&\n",
      "dsadsad&new line&\n",
      "sad&new line&\n",
      "sa&new line&\n",
      "d&new line&\n",
      "asd&new line&\n",
      "&new line&\n",
      "asd&new line&\n",
      "asd\n"
     ]
    },
    {
     "data": {
      "text/plain": [
       "''"
      ]
     },
     "execution_count": 8,
     "metadata": {},
     "output_type": "execute_result"
    }
   ],
   "source": [
    "pdf = PrintablePDF()\n",
    "\n",
    "convert_md_to_pdf(file_text, pdf, pool)\n",
    "\n",
    "pdf.output(\"mygfg.pdf\")   "
   ]
  },
  {
   "cell_type": "code",
   "execution_count": 10,
   "metadata": {},
   "outputs": [
    {
     "name": "stdout",
     "output_type": "stream",
     "text": [
      "### Obsidian2Pdf \n",
      "\n"
     ]
    },
    {
     "ename": "AttributeError",
     "evalue": "'FPDF' object has no attribute 'unifontsubset'",
     "output_type": "error",
     "traceback": [
      "\u001B[1;31m---------------------------------------------------------------------------\u001B[0m",
      "\u001B[1;31mAttributeError\u001B[0m                            Traceback (most recent call last)",
      "\u001B[1;32m~\\AppData\\Local\\Temp/ipykernel_25616/1750339227.py\u001B[0m in \u001B[0;36m<module>\u001B[1;34m\u001B[0m\n\u001B[0;32m      8\u001B[0m         \u001B[0mcell_h\u001B[0m \u001B[1;33m=\u001B[0m \u001B[1;36m10\u001B[0m\u001B[1;33m\u001B[0m\u001B[1;33m\u001B[0m\u001B[0m\n\u001B[0;32m      9\u001B[0m \u001B[1;33m\u001B[0m\u001B[0m\n\u001B[1;32m---> 10\u001B[1;33m         \u001B[0mpdf\u001B[0m\u001B[1;33m.\u001B[0m\u001B[0mcell\u001B[0m\u001B[1;33m(\u001B[0m\u001B[1;36m150\u001B[0m\u001B[1;33m,\u001B[0m \u001B[0mcell_h\u001B[0m\u001B[1;33m,\u001B[0m \u001B[0mtxt\u001B[0m \u001B[1;33m=\u001B[0m \u001B[0mline\u001B[0m\u001B[1;33m,\u001B[0m \u001B[0mln\u001B[0m \u001B[1;33m=\u001B[0m \u001B[1;36m1\u001B[0m\u001B[1;33m,\u001B[0m \u001B[0malign\u001B[0m \u001B[1;33m=\u001B[0m \u001B[1;34m'L'\u001B[0m\u001B[1;33m,\u001B[0m \u001B[0mfill\u001B[0m\u001B[1;33m=\u001B[0m \u001B[1;36m1\u001B[0m\u001B[1;33m)\u001B[0m\u001B[1;33m\u001B[0m\u001B[1;33m\u001B[0m\u001B[0m\n\u001B[0m\u001B[0;32m     11\u001B[0m \u001B[1;33m\u001B[0m\u001B[0m\n\u001B[0;32m     12\u001B[0m \u001B[0mpdf\u001B[0m\u001B[1;33m.\u001B[0m\u001B[0moutput\u001B[0m\u001B[1;33m(\u001B[0m\u001B[1;34m\"mygfg.pdf\"\u001B[0m\u001B[1;33m)\u001B[0m\u001B[1;33m\u001B[0m\u001B[1;33m\u001B[0m\u001B[0m\n",
      "\u001B[1;32mc:\\Users\\Neo\\AppData\\Local\\Programs\\Python\\Python39\\lib\\site-packages\\fpdf\\fpdf.py\u001B[0m in \u001B[0;36mwrapper\u001B[1;34m(self, *args, **kwargs)\u001B[0m\n\u001B[0;32m    148\u001B[0m                 \u001B[0mself\u001B[0m\u001B[1;33m.\u001B[0m\u001B[0merror\u001B[0m\u001B[1;33m(\u001B[0m\u001B[1;34m\"No page open, you need to call add_page() first\"\u001B[0m\u001B[1;33m)\u001B[0m\u001B[1;33m\u001B[0m\u001B[1;33m\u001B[0m\u001B[0m\n\u001B[0;32m    149\u001B[0m             \u001B[1;32melse\u001B[0m\u001B[1;33m:\u001B[0m\u001B[1;33m\u001B[0m\u001B[1;33m\u001B[0m\u001B[0m\n\u001B[1;32m--> 150\u001B[1;33m                 \u001B[1;32mreturn\u001B[0m \u001B[0mfn\u001B[0m\u001B[1;33m(\u001B[0m\u001B[0mself\u001B[0m\u001B[1;33m,\u001B[0m \u001B[1;33m*\u001B[0m\u001B[0margs\u001B[0m\u001B[1;33m,\u001B[0m \u001B[1;33m**\u001B[0m\u001B[0mkwargs\u001B[0m\u001B[1;33m)\u001B[0m\u001B[1;33m\u001B[0m\u001B[1;33m\u001B[0m\u001B[0m\n\u001B[0m\u001B[0;32m    151\u001B[0m         \u001B[1;32mreturn\u001B[0m \u001B[0mwrapper\u001B[0m\u001B[1;33m\u001B[0m\u001B[1;33m\u001B[0m\u001B[0m\n\u001B[0;32m    152\u001B[0m \u001B[1;33m\u001B[0m\u001B[0m\n",
      "\u001B[1;32mc:\\Users\\Neo\\AppData\\Local\\Programs\\Python\\Python39\\lib\\site-packages\\fpdf\\fpdf.py\u001B[0m in \u001B[0;36mcell\u001B[1;34m(self, w, h, txt, border, ln, align, fill, link)\u001B[0m\n\u001B[0;32m    683\u001B[0m     \u001B[1;32mdef\u001B[0m \u001B[0mcell\u001B[0m\u001B[1;33m(\u001B[0m\u001B[0mself\u001B[0m\u001B[1;33m,\u001B[0m \u001B[0mw\u001B[0m\u001B[1;33m,\u001B[0m\u001B[0mh\u001B[0m\u001B[1;33m=\u001B[0m\u001B[1;36m0\u001B[0m\u001B[1;33m,\u001B[0m\u001B[0mtxt\u001B[0m\u001B[1;33m=\u001B[0m\u001B[1;34m''\u001B[0m\u001B[1;33m,\u001B[0m\u001B[0mborder\u001B[0m\u001B[1;33m=\u001B[0m\u001B[1;36m0\u001B[0m\u001B[1;33m,\u001B[0m\u001B[0mln\u001B[0m\u001B[1;33m=\u001B[0m\u001B[1;36m0\u001B[0m\u001B[1;33m,\u001B[0m\u001B[0malign\u001B[0m\u001B[1;33m=\u001B[0m\u001B[1;34m''\u001B[0m\u001B[1;33m,\u001B[0m\u001B[0mfill\u001B[0m\u001B[1;33m=\u001B[0m\u001B[1;36m0\u001B[0m\u001B[1;33m,\u001B[0m\u001B[0mlink\u001B[0m\u001B[1;33m=\u001B[0m\u001B[1;34m''\u001B[0m\u001B[1;33m)\u001B[0m\u001B[1;33m:\u001B[0m\u001B[1;33m\u001B[0m\u001B[1;33m\u001B[0m\u001B[0m\n\u001B[0;32m    684\u001B[0m         \u001B[1;34m\"Output a cell\"\u001B[0m\u001B[1;33m\u001B[0m\u001B[1;33m\u001B[0m\u001B[0m\n\u001B[1;32m--> 685\u001B[1;33m         \u001B[0mtxt\u001B[0m \u001B[1;33m=\u001B[0m \u001B[0mself\u001B[0m\u001B[1;33m.\u001B[0m\u001B[0mnormalize_text\u001B[0m\u001B[1;33m(\u001B[0m\u001B[0mtxt\u001B[0m\u001B[1;33m)\u001B[0m\u001B[1;33m\u001B[0m\u001B[1;33m\u001B[0m\u001B[0m\n\u001B[0m\u001B[0;32m    686\u001B[0m         \u001B[0mk\u001B[0m\u001B[1;33m=\u001B[0m\u001B[0mself\u001B[0m\u001B[1;33m.\u001B[0m\u001B[0mk\u001B[0m\u001B[1;33m\u001B[0m\u001B[1;33m\u001B[0m\u001B[0m\n\u001B[0;32m    687\u001B[0m         \u001B[1;32mif\u001B[0m\u001B[1;33m(\u001B[0m\u001B[0mself\u001B[0m\u001B[1;33m.\u001B[0m\u001B[0my\u001B[0m\u001B[1;33m+\u001B[0m\u001B[0mh\u001B[0m\u001B[1;33m>\u001B[0m\u001B[0mself\u001B[0m\u001B[1;33m.\u001B[0m\u001B[0mpage_break_trigger\u001B[0m \u001B[1;32mand\u001B[0m \u001B[1;32mnot\u001B[0m \u001B[0mself\u001B[0m\u001B[1;33m.\u001B[0m\u001B[0min_footer\u001B[0m \u001B[1;32mand\u001B[0m \u001B[0mself\u001B[0m\u001B[1;33m.\u001B[0m\u001B[0maccept_page_break\u001B[0m\u001B[1;33m(\u001B[0m\u001B[1;33m)\u001B[0m\u001B[1;33m)\u001B[0m\u001B[1;33m:\u001B[0m\u001B[1;33m\u001B[0m\u001B[1;33m\u001B[0m\u001B[0m\n",
      "\u001B[1;32mc:\\Users\\Neo\\AppData\\Local\\Programs\\Python\\Python39\\lib\\site-packages\\fpdf\\fpdf.py\u001B[0m in \u001B[0;36mnormalize_text\u001B[1;34m(self, txt)\u001B[0m\n\u001B[0;32m   1098\u001B[0m         \u001B[1;31m# - for TTF unicode fonts: unicode object (utf8 encoding)\u001B[0m\u001B[1;33m\u001B[0m\u001B[1;33m\u001B[0m\u001B[0m\n\u001B[0;32m   1099\u001B[0m         \u001B[1;31m# - for built-in fonts: string instances (latin 1 encoding)\u001B[0m\u001B[1;33m\u001B[0m\u001B[1;33m\u001B[0m\u001B[0m\n\u001B[1;32m-> 1100\u001B[1;33m         \u001B[1;32mif\u001B[0m \u001B[0mself\u001B[0m\u001B[1;33m.\u001B[0m\u001B[0munifontsubset\u001B[0m \u001B[1;32mand\u001B[0m \u001B[0misinstance\u001B[0m\u001B[1;33m(\u001B[0m\u001B[0mtxt\u001B[0m\u001B[1;33m,\u001B[0m \u001B[0mstr\u001B[0m\u001B[1;33m)\u001B[0m \u001B[1;32mand\u001B[0m \u001B[1;32mnot\u001B[0m \u001B[0mPY3K\u001B[0m\u001B[1;33m:\u001B[0m\u001B[1;33m\u001B[0m\u001B[1;33m\u001B[0m\u001B[0m\n\u001B[0m\u001B[0;32m   1101\u001B[0m             \u001B[0mtxt\u001B[0m \u001B[1;33m=\u001B[0m \u001B[0mtxt\u001B[0m\u001B[1;33m.\u001B[0m\u001B[0mdecode\u001B[0m\u001B[1;33m(\u001B[0m\u001B[1;34m'utf8'\u001B[0m\u001B[1;33m)\u001B[0m\u001B[1;33m\u001B[0m\u001B[1;33m\u001B[0m\u001B[0m\n\u001B[0;32m   1102\u001B[0m         \u001B[1;32melif\u001B[0m \u001B[1;32mnot\u001B[0m \u001B[0mself\u001B[0m\u001B[1;33m.\u001B[0m\u001B[0munifontsubset\u001B[0m \u001B[1;32mand\u001B[0m \u001B[0misinstance\u001B[0m\u001B[1;33m(\u001B[0m\u001B[0mtxt\u001B[0m\u001B[1;33m,\u001B[0m \u001B[0municode\u001B[0m\u001B[1;33m)\u001B[0m \u001B[1;32mand\u001B[0m \u001B[1;32mnot\u001B[0m \u001B[0mPY3K\u001B[0m\u001B[1;33m:\u001B[0m\u001B[1;33m\u001B[0m\u001B[1;33m\u001B[0m\u001B[0m\n",
      "\u001B[1;31mAttributeError\u001B[0m: 'FPDF' object has no attribute 'unifontsubset'"
     ]
    }
   ],
   "source": [
    "pdf = FPDF()   \n",
    "\n",
    "\n",
    "self.add_font(\"Arial\", \"\", \"arial.ttf\", uni=True)\n",
    "self.set_font(\"Arial\", \"\", 16)\n",
    "\n",
    "pdf.add_page()\n",
    "\n",
    "with open(\"MDtest.md\") as file_in:\n",
    "    lines = []\n",
    "    for line in file_in:\n",
    "        print(line)\n",
    "        cell_h = 10\n",
    "\n",
    "        pdf.cell(150, cell_h, txt = line, ln = 1, align = 'L', fill= 1)\n",
    "\n",
    "\n",
    "pdf.output(\"mygfg.pdf\") "
   ]
  },
  {
   "cell_type": "code",
   "execution_count": null,
   "metadata": {},
   "outputs": [],
   "source": []
  }
 ],
 "metadata": {
  "interpreter": {
   "hash": "2d8abedddc9f1d39d2b5bd32b9a1d6a12e8a7e09e9e65d7b1d977ce3b8609b6e"
  },
  "kernelspec": {
   "display_name": "Python 3.9.7 64-bit",
   "language": "python",
   "name": "python3"
  },
  "language_info": {
   "codemirror_mode": {
    "name": "ipython",
    "version": 3
   },
   "file_extension": ".py",
   "mimetype": "text/x-python",
   "name": "python",
   "nbconvert_exporter": "python",
   "pygments_lexer": "ipython3",
   "version": "3.9.7"
  },
  "orig_nbformat": 4
 },
 "nbformat": 4,
 "nbformat_minor": 2
}
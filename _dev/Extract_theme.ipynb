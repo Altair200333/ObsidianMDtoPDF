{
 "cells": [
  {
   "cell_type": "code",
   "execution_count": 87,
   "metadata": {},
   "outputs": [
    {
     "name": "stdout",
     "output_type": "stream",
     "text": [
      "The autoreload extension is already loaded. To reload it, use:\n",
      "  %reload_ext autoreload\n"
     ]
    }
   ],
   "source": [
    "import numpy as np\n",
    "from PIL import Image\n",
    "import re\n",
    "from css_parser import *\n",
    "from fpdf import FPDF\n",
    "from color_utils import *\n",
    "\n",
    "%load_ext autoreload\n",
    "%autoreload 2"
   ]
  },
  {
   "cell_type": "code",
   "execution_count": 78,
   "metadata": {},
   "outputs": [],
   "source": [
    "css_file = read_css(\"Obsidian Nord.css\")"
   ]
  },
  {
   "cell_type": "code",
   "execution_count": 79,
   "metadata": {},
   "outputs": [],
   "source": [
    "blocks = find_block(css_file, \"\")\n",
    "\n",
    "light_theme_name = \".theme-light\"\n",
    "dark_theme_name = \".theme-dark\"\n",
    "\n",
    "general_blocks = []\n",
    "ligt_theme_blocks = []\n",
    "dark_theme_blocks = []\n",
    "\n",
    "for block in blocks:\n",
    "    if dark_theme_name in block:\n",
    "        dark_theme_blocks.append(block)\n",
    "    elif light_theme_name in block:\n",
    "        ligt_theme_blocks.append(block)\n",
    "    else:\n",
    "        general_blocks.append(block)"
   ]
  },
  {
   "cell_type": "code",
   "execution_count": 83,
   "metadata": {},
   "outputs": [],
   "source": [
    "used_theme_blocks = dark_theme_blocks\n",
    "global_block_list = []\n",
    "\n",
    "for block in general_blocks:\n",
    "    global_block_list.append(block)\n",
    "    \n",
    "for block in used_theme_blocks:\n",
    "    global_block_list.append(block) "
   ]
  },
  {
   "cell_type": "code",
   "execution_count": 84,
   "metadata": {},
   "outputs": [],
   "source": [
    "styles = \"\\n\".join(global_block_list)\n",
    "values_dict = get_values_dict(styles)"
   ]
  },
  {
   "cell_type": "code",
   "execution_count": 85,
   "metadata": {},
   "outputs": [
    {
     "name": "stdout",
     "output_type": "stream",
     "text": [
      "--dark0 #2e3440\n",
      "--dark1 #3b4252\n",
      "--dark2 #434c5e\n",
      "--dark3 #4c566a\n",
      "--light0 #d8dee9\n",
      "--light1 #e5e9f0\n",
      "--light2 #eceff4\n",
      "--light3 #ffffff\n",
      "--frost0 #8fbcbb\n",
      "--frost1 #88c0d0\n",
      "--frost2 #81a1c1\n",
      "--frost3 #5e81ac\n",
      "--red #bf616a\n",
      "--orange #d08770\n",
      "--yellow #ebcb8b\n",
      "--green #a3be8c\n",
      "--purple #b48ead\n",
      "--red-rgb 255,69,58\n",
      "--persent1 10%\n",
      "--default-font -apple-system,BlinkMacSystemFont,SegoeUI,\n",
      "Helvetica,Arial,sans-serif,AppleColorEmoji,\n",
      "SegoeUIEmoji\n",
      "--editor-font 'HackNerdFont','SourceCodePro',\n",
      "ui-monospace,SFMono-Regular,SFMono,Menlo,\n",
      "Consolas,LiberationMono,monospace\n",
      "--background-primary #2e3440\n",
      "--background-primary-alt #2e3440\n",
      "--background-secondary #3b4252\n",
      "--background-secondary-alt #434c5e\n",
      "--text-normal #eceff4\n",
      "--text-faint #d8dee9\n",
      "--text-muted #e5e9f0\n",
      "--text-title-h1 #bf616a\n",
      "--text-title-h2 #d08770\n",
      "--text-title-h3 #ebcb8b\n",
      "--text-title-h4 #a3be8c\n",
      "--text-title-h5 #b48ead\n",
      "--text-title-h6 #d08770\n",
      "--text-link #8fbcbb\n",
      "--text-a #5e81ac\n",
      "--text-a-hover #81a1c1\n",
      "--text-mark #88C0D04C\n",
      "--text-mark-extra #88C0D0\n",
      "--pre-code #3b4252\n",
      "--text-highlight-bg #A3BE8C4C\n",
      "--text-highlight-bg-test #19338C7F\n",
      "--text-highlight-bg-active #a3be8c\n",
      "--interactive-accent #8fbcbb\n",
      "--interactive-before #4c566a\n",
      "--background-modifier-border #434c5e\n",
      "--text-accent #d08770\n",
      "--interactive-accent-rgb #d08770\n",
      "--inline-code #88c0d0\n",
      "--code-block #88c0d0\n",
      "--vim-cursor #d08770\n",
      "--text-selection #4c566a\n",
      "--text-tag #8fbcbb\n",
      "--task-checkbox #8fbcbb\n"
     ]
    }
   ],
   "source": [
    "colors_dict = get_theme_colors(values_dict)\n",
    "for name, value in colors_dict.items():\n",
    "    print(name + \" \" + value)"
   ]
  },
  {
   "cell_type": "code",
   "execution_count": 92,
   "metadata": {},
   "outputs": [
    {
     "data": {
      "text/plain": [
       "(25, 50, 127)"
      ]
     },
     "execution_count": 92,
     "metadata": {},
     "output_type": "execute_result"
    }
   ],
   "source": [
    "hex_to_rgba(\"#19327f\")"
   ]
  },
  {
   "cell_type": "code",
   "execution_count": 95,
   "metadata": {},
   "outputs": [
    {
     "data": {
      "text/plain": [
       "(25, 50, 127, 170)"
      ]
     },
     "execution_count": 95,
     "metadata": {},
     "output_type": "execute_result"
    }
   ],
   "source": [
    "hex_to_rgba(\"#19327faa\")"
   ]
  },
  {
   "cell_type": "code",
   "execution_count": null,
   "metadata": {},
   "outputs": [],
   "source": [
    "rgb_to_hex()"
   ]
  }
 ],
 "metadata": {
  "interpreter": {
   "hash": "0d083ba42aae9f9d11237e0be732a28f2bf1430ce107b8104c51f88075f06857"
  },
  "kernelspec": {
   "display_name": "Python 3.9.7 64-bit",
   "language": "python",
   "name": "python3"
  },
  "language_info": {
   "codemirror_mode": {
    "name": "ipython",
    "version": 3
   },
   "file_extension": ".py",
   "mimetype": "text/x-python",
   "name": "python",
   "nbconvert_exporter": "python",
   "pygments_lexer": "ipython3",
   "version": "3.9.7"
  },
  "orig_nbformat": 4
 },
 "nbformat": 4,
 "nbformat_minor": 2
}

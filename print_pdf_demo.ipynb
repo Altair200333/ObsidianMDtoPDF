{
 "cells": [
  {
   "cell_type": "code",
   "execution_count": 18,
   "metadata": {},
   "outputs": [
    {
     "name": "stdout",
     "output_type": "stream",
     "text": [
      "The autoreload extension is already loaded. To reload it, use:\n",
      "  %reload_ext autoreload\n"
     ]
    }
   ],
   "source": [
    "import numpy as np\n",
    "from PIL import Image\n",
    "import re\n",
    "from src.css.css_parser import *\n",
    "from fpdf import FPDF\n",
    "from src.css.color_utils import *\n",
    "import os.path\n",
    "from src.fpdf_extention import *\n",
    "from src.md_to_pdf_converter import *\n",
    "\n",
    "%load_ext autoreload\n",
    "%autoreload 2"
   ]
  },
  {
   "cell_type": "code",
   "execution_count": 69,
   "metadata": {},
   "outputs": [],
   "source": [
    "colors = get_theme_from_file(\"Obsidian Nord.css\")"
   ]
  },
  {
   "cell_type": "code",
   "execution_count": 95,
   "metadata": {},
   "outputs": [],
   "source": [
    "pool = StylePool()\n",
    "pool.doc_style.set_background_color(colors[\"--background-primary\"])\n",
    "pool.style_normal.set_font_color(colors[\"--text-normal\"])\n",
    "\n",
    "pool.style_h1.set_font_color(colors[\"--text-title-h1\"])\n",
    "pool.style_h2.set_font_color(colors[\"--text-title-h2\"])\n",
    "pool.style_h3.set_font_color(colors[\"--text-title-h3\"])\n",
    "pool.style_h4.set_font_color(colors[\"--text-title-h4\"])\n",
    "pool.style_h5.set_font_color(colors[\"--text-title-h5\"])\n",
    "pool.style_h6.set_font_color(colors[\"--text-title-h6\"])\n",
    "\n",
    "pool.style_code.set_font_color(colors[\"--code-block\"])\n",
    "pool.style_code.set_background_color(colors[\"--pre-code\"])\n",
    "\n",
    "pool.style_mark.set_font_color(colors[\"--text-normal\"])\n",
    "pool.style_mark.set_background_color(colors[\"--pre-code\"])\n",
    "\n",
    "pool.style_link.set_font_color(colors[\"--text-accent\"])\n"
   ]
  },
  {
   "cell_type": "code",
   "execution_count": 108,
   "metadata": {},
   "outputs": [],
   "source": [
    "file_text = read_contents(\"MDtest.md\")"
   ]
  },
  {
   "cell_type": "code",
   "execution_count": 109,
   "metadata": {},
   "outputs": [
    {
     "data": {
      "text/plain": [
       "''"
      ]
     },
     "execution_count": 109,
     "metadata": {},
     "output_type": "execute_result"
    }
   ],
   "source": [
    "pdf = PrintablePDF()\n",
    "convert_md_to_pdf(file_text, pdf, pool)\n",
    "#pdf.link(10,10,100,100, 'http|://www.intranet.com/mb/rprh06/final.php?folio=')\n",
    "\n",
    "pdf.output(\"mygfg.pdf\")"
   ]
  },
  {
   "cell_type": "code",
   "execution_count": 110,
   "metadata": {},
   "outputs": [
    {
     "data": {
      "text/plain": [
       "[('link to the page', 'https://github.com/Altair200333/ObsidianMDtoPDF')]"
      ]
     },
     "execution_count": 110,
     "metadata": {},
     "output_type": "execute_result"
    }
   ],
   "source": [
    "text = \"[link to the page](https://github.com/Altair200333/ObsidianMDtoPDF)\"\n",
    "\n",
    "regex = re.compile(r\"\\[(.*)\\]\\((.*)\\)\")\n",
    "matches = regex.findall(text)\n",
    "\n",
    "matches"
   ]
  },
  {
   "cell_type": "code",
   "execution_count": 114,
   "metadata": {},
   "outputs": [
    {
     "name": "stdout",
     "output_type": "stream",
     "text": [
      "[link to the page](https://github.com/Altair200333/ObsidianMDtoPDF)\n",
      "[link to the page](https://github.com/Altair200333/ObsidianMDtoPDF5)\n",
      "[link to the page](https://github.com/Altair200333/ObsidianMDtoPDF3)\n",
      "[link to the page](https://github.com/Altair200333/ObsidianMDtoPDF2)\n"
     ]
    }
   ],
   "source": [
    "#pdf = PrintablePDF()\n",
    "\n",
    "results = [(m.start(0), m.end(0)) for m in re.finditer(r\"\\[(.*)\\]\\((.*)\\)\", file_text)]\n",
    "style_dict = {}\n",
    "\n",
    "for res in results:\n",
    "    style_dict[res[0]] = 0\n",
    "    print(file_text[res[0]:res[1]])\n",
    "\n",
    "#pdf.output(\"mygfg.pdf\")"
   ]
  },
  {
   "cell_type": "code",
   "execution_count": null,
   "metadata": {},
   "outputs": [],
   "source": []
  },
  {
   "cell_type": "code",
   "execution_count": null,
   "metadata": {},
   "outputs": [],
   "source": []
  }
 ],
 "metadata": {
  "interpreter": {
   "hash": "2d8abedddc9f1d39d2b5bd32b9a1d6a12e8a7e09e9e65d7b1d977ce3b8609b6e"
  },
  "kernelspec": {
   "display_name": "Python 3.9.7 64-bit",
   "language": "python",
   "name": "python3"
  },
  "language_info": {
   "codemirror_mode": {
    "name": "ipython",
    "version": 3
   },
   "file_extension": ".py",
   "mimetype": "text/x-python",
   "name": "python",
   "nbconvert_exporter": "python",
   "pygments_lexer": "ipython3",
   "version": "3.9.7"
  },
  "orig_nbformat": 4
 },
 "nbformat": 4,
 "nbformat_minor": 2
}

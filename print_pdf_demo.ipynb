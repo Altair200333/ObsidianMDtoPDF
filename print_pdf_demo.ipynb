{
 "cells": [
  {
   "cell_type": "code",
   "execution_count": 18,
   "metadata": {},
   "outputs": [
    {
     "name": "stdout",
     "output_type": "stream",
     "text": [
      "The autoreload extension is already loaded. To reload it, use:\n",
      "  %reload_ext autoreload\n"
     ]
    }
   ],
   "source": [
    "import numpy as np\n",
    "from PIL import Image\n",
    "import re\n",
    "from src.css.css_parser import *\n",
    "from fpdf import FPDF\n",
    "from src.css.color_utils import *\n",
    "import os.path\n",
    "from src.fpdf_extention import *\n",
    "from src.md_to_pdf_converter import *\n",
    "\n",
    "%load_ext autoreload\n",
    "%autoreload 2"
   ]
  },
  {
   "cell_type": "code",
   "execution_count": 69,
   "metadata": {},
   "outputs": [],
   "source": [
    "colors = get_theme_from_file(\"Obsidian Nord.css\")"
   ]
  },
  {
   "cell_type": "code",
   "execution_count": 95,
   "metadata": {},
   "outputs": [],
   "source": [
    "pool = StylePool()\n",
    "pool.doc_style.set_background_color(colors[\"--background-primary\"])\n",
    "pool.style_normal.set_font_color(colors[\"--text-normal\"])\n",
    "\n",
    "pool.style_h1.set_font_color(colors[\"--text-title-h1\"])\n",
    "pool.style_h2.set_font_color(colors[\"--text-title-h2\"])\n",
    "pool.style_h3.set_font_color(colors[\"--text-title-h3\"])\n",
    "pool.style_h4.set_font_color(colors[\"--text-title-h4\"])\n",
    "pool.style_h5.set_font_color(colors[\"--text-title-h5\"])\n",
    "pool.style_h6.set_font_color(colors[\"--text-title-h6\"])\n",
    "\n",
    "pool.style_code.set_font_color(colors[\"--code-block\"])\n",
    "pool.style_code.set_background_color(colors[\"--pre-code\"])\n",
    "\n",
    "pool.style_mark.set_font_color(colors[\"--text-normal\"])\n",
    "pool.style_mark.set_background_color(colors[\"--pre-code\"])\n",
    "\n",
    "pool.style_link.set_font_color(colors[\"--text-accent\"])\n"
   ]
  },
  {
   "cell_type": "code",
   "execution_count": 125,
   "metadata": {},
   "outputs": [],
   "source": [
    "file_text = read_contents(\"MDtest.md\")"
   ]
  },
  {
   "cell_type": "code",
   "execution_count": 109,
   "metadata": {},
   "outputs": [
    {
     "data": {
      "text/plain": [
       "''"
      ]
     },
     "execution_count": 109,
     "metadata": {},
     "output_type": "execute_result"
    }
   ],
   "source": [
    "pdf = PrintablePDF()\n",
    "convert_md_to_pdf(file_text, pdf, pool)\n",
    "#pdf.link(10,10,100,100, 'http|://www.intranet.com/mb/rprh06/final.php?folio=')\n",
    "\n",
    "pdf.output(\"mygfg.pdf\")"
   ]
  },
  {
   "cell_type": "code",
   "execution_count": 110,
   "metadata": {},
   "outputs": [
    {
     "data": {
      "text/plain": [
       "[('link to the page', 'https://github.com/Altair200333/ObsidianMDtoPDF')]"
      ]
     },
     "execution_count": 110,
     "metadata": {},
     "output_type": "execute_result"
    }
   ],
   "source": [
    "text = \"[link to the page](https://github.com/Altair200333/ObsidianMDtoPDF)\"\n",
    "\n",
    "regex = re.compile(r\"\\[(.*)\\]\\((.*)\\)\")\n",
    "matches = regex.findall(text)\n",
    "\n",
    "matches"
   ]
  },
  {
   "cell_type": "code",
   "execution_count": 130,
   "metadata": {},
   "outputs": [
    {
     "name": "stdout",
     "output_type": "stream",
     "text": [
      "# Title 1\n",
      "[link to the page](https://github.com/Altair200333/ObsidianMDtoPDF)\n",
      "[link to the page](https://github.com/Altair200333/ObsidianMDtoPDF5)\n",
      "[link to the page](https://github.com/Altair200333/ObsidianMDtoPDF3)\n",
      "[link to the page](https://github.com/Altair200333/ObsidianMDtoPDF2)\n",
      "{0: 1, 9: -1, 76: 7, 143: -7, 144: 7, 212: -7, 214: 7, 282: -7, 284: 7, 352: -7}\n",
      "start style 1\n",
      "[1]\n",
      "end style 1\n",
      "[]\n",
      "start style 7\n",
      "[7]\n",
      "end style 7\n",
      "[]\n",
      "start style 7\n",
      "[7]\n",
      "end style 7\n",
      "[]\n",
      "start style 7\n",
      "[7]\n",
      "end style 7\n",
      "[]\n",
      "start style 7\n",
      "[7]\n",
      "end style 7\n",
      "[]\n"
     ]
    }
   ],
   "source": [
    "#pdf = PrintablePDF()\n",
    "\n",
    "blocks = [H1Block(pool), H2Block(pool), H3Block(pool), H4Block(pool), H5Block(pool), H6Block(pool), LinkBlock(pool)]\n",
    "\n",
    "def mark_block(block, id, table, string):\n",
    "    results = [(m.start(0), m.end(0)) for m in block.regex.finditer(string)]\n",
    "    for res in results:\n",
    "        table[res[0]] = id\n",
    "        table[res[1]] = -id\n",
    "        print(string[res[0]:res[1]])\n",
    "        \n",
    "style_dict = {}\n",
    "\n",
    "for i, block in enumerate(blocks):\n",
    "    mark_block(block, i + 1, style_dict, file_text)\n",
    "\n",
    "print(style_dict)\n",
    "\n",
    "style_stack = []\n",
    "for i, c in enumerate(file_text):\n",
    "    if i in style_dict:\n",
    "        value = style_dict[i]\n",
    "        if value > 0:\n",
    "            print(\"start style\", abs(value))\n",
    "            style_stack.append(value)\n",
    "        if value < 0:\n",
    "            print(\"end style\", abs(value))\n",
    "            style_stack.pop()\n",
    "        print(style_stack)\n",
    "\n",
    "#pdf.output(\"mygfg.pdf\")"
   ]
  },
  {
   "cell_type": "code",
   "execution_count": 134,
   "metadata": {},
   "outputs": [
    {
     "data": {
      "text/plain": [
       "[]"
      ]
     },
     "execution_count": 134,
     "metadata": {},
     "output_type": "execute_result"
    }
   ],
   "source": [
    "results = [(m.start(0), m.end(0)) for m in H2Block(pool).regex.finditer(file_text)]\n",
    "results"
   ]
  },
  {
   "cell_type": "code",
   "execution_count": 154,
   "metadata": {},
   "outputs": [
    {
     "data": {
      "text/plain": [
       "[]"
      ]
     },
     "execution_count": 154,
     "metadata": {},
     "output_type": "execute_result"
    }
   ],
   "source": [
    "res = re.findall(r\"## .*\", \"## Title 2\")\n",
    "res"
   ]
  },
  {
   "cell_type": "code",
   "execution_count": null,
   "metadata": {},
   "outputs": [],
   "source": []
  }
 ],
 "metadata": {
  "interpreter": {
   "hash": "2d8abedddc9f1d39d2b5bd32b9a1d6a12e8a7e09e9e65d7b1d977ce3b8609b6e"
  },
  "kernelspec": {
   "display_name": "Python 3.9.7 64-bit",
   "language": "python",
   "name": "python3"
  },
  "language_info": {
   "codemirror_mode": {
    "name": "ipython",
    "version": 3
   },
   "file_extension": ".py",
   "mimetype": "text/x-python",
   "name": "python",
   "nbconvert_exporter": "python",
   "pygments_lexer": "ipython3",
   "version": "3.9.7"
  },
  "orig_nbformat": 4
 },
 "nbformat": 4,
 "nbformat_minor": 2
}

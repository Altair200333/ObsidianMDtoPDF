{
 "cells": [
  {
   "cell_type": "code",
   "execution_count": 174,
   "metadata": {},
   "outputs": [
    {
     "name": "stdout",
     "output_type": "stream",
     "text": [
      "The autoreload extension is already loaded. To reload it, use:\n",
      "  %reload_ext autoreload\n"
     ]
    }
   ],
   "source": [
    "import numpy as np\n",
    "from PIL import Image\n",
    "import re\n",
    "from src.css.css_parser import *\n",
    "from fpdf import FPDF\n",
    "from src.css.color_utils import *\n",
    "import os.path\n",
    "from src.fpdf_extention import *\n",
    "from src.md_to_pdf_converter import *\n",
    "\n",
    "%load_ext autoreload\n",
    "%autoreload 2"
   ]
  },
  {
   "cell_type": "code",
   "execution_count": 175,
   "metadata": {},
   "outputs": [],
   "source": [
    "colors = get_theme_from_file(\"Obsidian Nord.css\")"
   ]
  },
  {
   "cell_type": "code",
   "execution_count": 176,
   "metadata": {},
   "outputs": [],
   "source": [
    "pool = StylePool()\n",
    "pool.doc_style.set_background_color(colors[\"--background-primary\"])\n",
    "pool.style_normal.set_font_color(colors[\"--text-normal\"])\n",
    "\n",
    "pool.style_h1.set_font_color(colors[\"--text-title-h1\"])\n",
    "pool.style_h2.set_font_color(colors[\"--text-title-h2\"])\n",
    "pool.style_h3.set_font_color(colors[\"--text-title-h3\"])\n",
    "pool.style_h4.set_font_color(colors[\"--text-title-h4\"])\n",
    "pool.style_h5.set_font_color(colors[\"--text-title-h5\"])\n",
    "pool.style_h6.set_font_color(colors[\"--text-title-h6\"])\n",
    "\n",
    "pool.style_code.set_font_color(colors[\"--code-block\"])\n",
    "pool.style_code.set_background_color(colors[\"--pre-code\"])\n",
    "\n",
    "pool.style_mark.set_font_color(colors[\"--text-normal\"])\n",
    "pool.style_mark.set_background_color(colors[\"--pre-code\"])\n",
    "\n",
    "pool.style_link.set_font_color(colors[\"--text-accent\"])\n"
   ]
  },
  {
   "cell_type": "code",
   "execution_count": 205,
   "metadata": {},
   "outputs": [],
   "source": [
    "file_text = read_contents(\"MDtest.md\")"
   ]
  },
  {
   "cell_type": "code",
   "execution_count": 178,
   "metadata": {},
   "outputs": [
    {
     "data": {
      "text/plain": [
       "''"
      ]
     },
     "execution_count": 178,
     "metadata": {},
     "output_type": "execute_result"
    }
   ],
   "source": [
    "pdf = PrintablePDF()\n",
    "convert_md_to_pdf(file_text, pdf, pool)\n",
    "#pdf.link(10,10,100,100, 'http|://www.intranet.com/mb/rprh06/final.php?folio=')\n",
    "\n",
    "pdf.output(\"mygfg.pdf\")"
   ]
  },
  {
   "cell_type": "code",
   "execution_count": null,
   "metadata": {},
   "outputs": [],
   "source": []
  },
  {
   "cell_type": "code",
   "execution_count": 179,
   "metadata": {},
   "outputs": [
    {
     "data": {
      "text/plain": [
       "[('link to the page', 'https://github.com/Altair200333/ObsidianMDtoPDF')]"
      ]
     },
     "execution_count": 179,
     "metadata": {},
     "output_type": "execute_result"
    }
   ],
   "source": [
    "text = \"[link to the page](https://github.com/Altair200333/ObsidianMDtoPDF)\"\n",
    "\n",
    "regex = re.compile(r\"\\[(.*)\\]\\((.*)\\)\")\n",
    "matches = regex.findall(text)\n",
    "\n",
    "matches"
   ]
  },
  {
   "cell_type": "code",
   "execution_count": 209,
   "metadata": {},
   "outputs": [
    {
     "name": "stdout",
     "output_type": "stream",
     "text": [
      "# Title 1\n",
      "## Title 2\n",
      "### Obsidian2Pdf \n",
      "### Highlighted text l a w e t y u q we w rwq eqr ew\n",
      "### Code blocks\n",
      "### Different header styles\n",
      "### Title 3\n",
      "#### Title 4\n",
      "##### Title 5\n",
      "###### Title 6\n",
      ">highlited text\n",
      ">\tmore text \n",
      "```title\n",
      "bottom text\n",
      "```\n",
      "[link to the page](https://github.com/Altair200333/ObsidianMDtoPDF2)\n",
      "{296: 1, 305: -1, 306: 2, 316: -2, 0: 3, 17: -3, 71: 3, 123: -3, 156: 3, 171: -3, 199: 3, 226: -3, 317: 3, 328: -3, 329: 4, 341: -4, 342: 5, 355: -5, 356: 6, 370: -6, 125: 7, 140: -7, 141: 7, 153: -7, 173: 8, 197: -8, 227: 9, 295: -9}\n",
      "start style 3\n",
      "[3]\n",
      "end style 3\n",
      "['Obsidian2Pdf ']\n",
      "[]\n",
      "start style 3\n",
      "[3]\n",
      "end style 3\n",
      "['Highlighted text l a w e t y u q we w rwq eqr ew']\n",
      "[]\n",
      "start style 7\n",
      "[7]\n",
      "end style 7\n",
      "['highlited text']\n",
      "[]\n",
      "start style 7\n",
      "[7]\n",
      "end style 7\n",
      "['\\tmore text ']\n",
      "[]\n",
      "start style 3\n",
      "[3]\n",
      "end style 3\n",
      "['Code blocks']\n",
      "[]\n",
      "start style 8\n",
      "[8]\n",
      "end style 8\n",
      "[]\n",
      "start style 3\n",
      "[3]\n",
      "end style 3\n",
      "['Different header styles']\n",
      "[]\n",
      "start style 9\n",
      "[9]\n",
      "end style 9\n",
      "[]\n",
      "start style 1\n",
      "[1]\n",
      "end style 1\n",
      "['Title 1']\n",
      "[]\n",
      "start style 2\n",
      "[2]\n",
      "end style 2\n",
      "['Title 2']\n",
      "[]\n",
      "start style 3\n",
      "[3]\n",
      "end style 3\n",
      "['Title 3']\n",
      "[]\n",
      "start style 4\n",
      "[4]\n",
      "end style 4\n",
      "['Title 4']\n",
      "[]\n",
      "start style 5\n",
      "[5]\n",
      "end style 5\n",
      "['Title 5']\n",
      "[]\n",
      "start style 6\n",
      "[6]\n",
      "end style 6\n",
      "['Title 6']\n",
      "[]\n"
     ]
    },
    {
     "data": {
      "text/plain": [
       "''"
      ]
     },
     "execution_count": 209,
     "metadata": {},
     "output_type": "execute_result"
    }
   ],
   "source": [
    "pdf = PrintablePDF()\n",
    "pdf.set_doc_style(pool.doc_style)\n",
    "\n",
    "pdf.add_page()\n",
    "pdf.set_text_style(pool.style_normal)\n",
    "\n",
    "blocks = [H1Block(pool), H2Block(pool), H3Block(pool), H4Block(pool), H5Block(pool), H6Block(pool), MarkBlock(pool), CodeBlock(pool), LinkBlock(pool)]\n",
    "\n",
    "def mark_block(block, id, table, string):\n",
    "    results = [(m.start(0), m.end(0)) for m in block.regex.finditer(string)]\n",
    "    for res in results:\n",
    "        table[res[0]] = id\n",
    "        table[res[1]] = -id\n",
    "        print(string[res[0]:res[1]])\n",
    "\n",
    "style_dict = {}\n",
    "\n",
    "for i, block in enumerate(blocks):\n",
    "    mark_block(block, i + 1, style_dict, file_text)\n",
    "\n",
    "print(style_dict)\n",
    "\n",
    "style_stack = []\n",
    "current_style = None\n",
    "for i, c in enumerate(file_text):\n",
    "    if i in style_dict:\n",
    "        value = style_dict[i]\n",
    "        if value > 0:\n",
    "            print(\"start style\", abs(value))\n",
    "            style_stack.append(value)\n",
    "            current_style = blocks[abs(value) - 1]\n",
    "            current_style.feed(c)\n",
    "\n",
    "        if value < 0:\n",
    "            print(\"end style\", abs(value))\n",
    "            style_stack.pop()\n",
    "            current_style.feed(c)\n",
    "            current_style.flush(pdf)\n",
    "            current_style = None\n",
    "\n",
    "            if c == '\\n':\n",
    "                pdf.print_char(c)\n",
    "            \n",
    "            # if there is was style before this make it the main one\n",
    "            if len(style_stack) > 0:\n",
    "                current_style = blocks[-1]\n",
    "            \n",
    "        pdf.finish_print()\n",
    "        print(style_stack)\n",
    "    else:\n",
    "        # no style - normal text\n",
    "        if current_style == None:\n",
    "            pdf.print_char(c)\n",
    "            \n",
    "        else:\n",
    "            current_style.feed(c)\n",
    "\n",
    "    \n",
    "pdf.finish_print()\n",
    "pdf.output(\"mygfg.pdf\")"
   ]
  },
  {
   "cell_type": "code",
   "execution_count": 181,
   "metadata": {},
   "outputs": [
    {
     "data": {
      "text/plain": [
       "[(10, 20)]"
      ]
     },
     "execution_count": 181,
     "metadata": {},
     "output_type": "execute_result"
    }
   ],
   "source": [
    "results = [(m.start(0), m.end(0)) for m in H2Block(pool).regex.finditer(file_text)]\n",
    "results"
   ]
  },
  {
   "cell_type": "code",
   "execution_count": 163,
   "metadata": {},
   "outputs": [
    {
     "data": {
      "text/plain": [
       "['## Title 2']"
      ]
     },
     "execution_count": 163,
     "metadata": {},
     "output_type": "execute_result"
    }
   ],
   "source": [
    "res = re.findall(r\"^## .*\", \"\\n## Title 2\",flags=re.MULTILINE)\n",
    "res"
   ]
  }
 ],
 "metadata": {
  "interpreter": {
   "hash": "2d8abedddc9f1d39d2b5bd32b9a1d6a12e8a7e09e9e65d7b1d977ce3b8609b6e"
  },
  "kernelspec": {
   "display_name": "Python 3.9.7 64-bit",
   "language": "python",
   "name": "python3"
  },
  "language_info": {
   "codemirror_mode": {
    "name": "ipython",
    "version": 3
   },
   "file_extension": ".py",
   "mimetype": "text/x-python",
   "name": "python",
   "nbconvert_exporter": "python",
   "pygments_lexer": "ipython3",
   "version": "3.9.7"
  },
  "orig_nbformat": 4
 },
 "nbformat": 4,
 "nbformat_minor": 2
}

{
 "cells": [
  {
   "cell_type": "code",
   "execution_count": 1,
   "metadata": {},
   "outputs": [],
   "source": [
    "import numpy as np\n",
    "from PIL import Image\n",
    "\n",
    "from fpdf import FPDF"
   ]
  },
  {
   "cell_type": "code",
   "execution_count": 2,
   "metadata": {},
   "outputs": [],
   "source": [
    "%load_ext autoreload\n",
    "%autoreload 2"
   ]
  },
  {
   "cell_type": "code",
   "execution_count": 3,
   "metadata": {},
   "outputs": [],
   "source": [
    "input_file = \"MDtest.md\""
   ]
  },
  {
   "cell_type": "code",
   "execution_count": 4,
   "metadata": {},
   "outputs": [],
   "source": [
    "img = Image.new('RGB', (210,297), \"#afeafe\" )\n",
    "img.save('blue_colored.png')"
   ]
  },
  {
   "cell_type": "code",
   "execution_count": 5,
   "metadata": {},
   "outputs": [
    {
     "data": {
      "text/plain": [
       "''"
      ]
     },
     "execution_count": 5,
     "metadata": {},
     "output_type": "execute_result"
    }
   ],
   "source": [
    "f = open(input_file, \"r\")\n",
    "\n",
    "class ColoredPDF (FPDF):\n",
    "\n",
    "    def set_background_image(self, name):\n",
    "        self.background_name = name\n",
    "        \n",
    "    def __init__(self, orientation='P',unit='mm',format='A4'):\n",
    "        super().__init__(orientation, unit, format)\n",
    "        self.background_name = \"\"\n",
    "\n",
    "    def add_page(self, orientation=''):\n",
    "        # do normal add page stuff\n",
    "        super().add_page(orientation)\n",
    "\n",
    "        # before pdf did it's content placement stuff insert background\n",
    "        pdf.image(self.background_name, x = 0, y = 0, w = 210, h = 297, type = '', link = '')\n",
    "\n",
    "pdf = ColoredPDF()   \n",
    "\n",
    "pdf.set_background_image('blue_colored.png')\n",
    "\n",
    "pdf.add_page()\n",
    "\n",
    "pdf.set_font(\"Arial\", size = 15)\n",
    "  \n",
    "pdf.set_draw_color(0, 80, 180)\n",
    "pdf.set_fill_color(230, 230, 100)\n",
    "pdf.set_text_color(20, 50, 50)\n",
    "\n",
    "current_page = 0\n",
    "\n",
    "for x in f:\n",
    "    #print(pdf.page)\n",
    "    if current_page < pdf.page:\n",
    "        #pdf.image('blue_colored.png', x = 0, y = 0, w = 210, h = 297, type = '', link = '')\n",
    "        current_page += 1\n",
    "\n",
    "    cell_h = 10\n",
    "    #pdf.image('blue_colored.png', x = 0, y = 0, w = 210, h = 297, type = '', link = '')\n",
    "\n",
    "    pdf.cell(150, cell_h, txt = x, ln = 1, align = 'L', fill= 1)\n",
    "    pdf.cell(150, cell_h, txt = x, ln = 1, align = 'L', fill= 1)\n",
    "    pdf.cell(150, cell_h, txt = x, ln = 1, align = 'L', fill= 1)\n",
    "   \n",
    "\n",
    "pdf.output(\"mygfg.pdf\")   "
   ]
  },
  {
   "cell_type": "code",
   "execution_count": 6,
   "metadata": {},
   "outputs": [],
   "source": [
    "import tinycss2\n",
    "with open(\"Obsidian Nord.css\", 'rb') as fd:\n",
    "    css = fd.read()\n",
    "rules  = tinycss2.parse_stylesheet_bytes(css, skip_whitespace = True, skip_comments = True)\n",
    "for rule in rules[0]:\n",
    "    #print(type(rule))\n",
    "    token = rule.prelude[0].value\n",
    "    "
   ]
  },
  {
   "cell_type": "code",
   "execution_count": 55,
   "metadata": {},
   "outputs": [],
   "source": [
    "import re\n",
    "file = open(\"Obsidian Nord.css\", mode='r')\n",
    "\n",
    "# read all lines at once\n",
    "css_file = file.read()\n",
    "\n",
    "file.close()"
   ]
  },
  {
   "cell_type": "code",
   "execution_count": 56,
   "metadata": {},
   "outputs": [],
   "source": [
    "def find_block(string, name):\n",
    "    regex_string = name + r\"[^{]*[{][^{]*[}]\"\n",
    "    match = re.findall(regex_string, string)\n",
    "    if match is not None and len(match) > 0:\n",
    "        return match[0]\n",
    "    print(name + \" not found in input string\")\n",
    "    return None"
   ]
  },
  {
   "cell_type": "code",
   "execution_count": 57,
   "metadata": {},
   "outputs": [
    {
     "name": "stdout",
     "output_type": "stream",
     "text": [
      ".theme-dark\n",
      "{\n",
      "    --background-primary:         var(--dark0);\n",
      "    --background-primary-alt:     var(--dark0);\n",
      "    --background-secondary:       var(--dark1);\n",
      "    --background-secondary-alt:   var(--dark2);\n",
      "    --text-normal:                var(--light2);\n",
      "    --text-faint:                 var(--light0);\n",
      "    --text-muted:                 var(--light1);\n",
      "    --text-title-h1:              var(--red);\n",
      "    --text-title-h2:              var(--orange);\n",
      "    --text-title-h3:              var(--yellow);\n",
      "    --text-title-h4:              var(--green);\n",
      "    --text-title-h5:              var(--purple);\n",
      "    --text-title-h6:              var(--orange);\n",
      "    --text-link:                  var(--frost0);\n",
      "    --text-a:                     var(--frost3);\n",
      "    --text-a-hover:               var(--frost2);\n",
      "    --text-mark:                  rgba(136, 192, 208, 0.3); /* frost1 */\n",
      "    --text-mark-extra:            rgb(136, 192, 208);\n",
      "    --pre-code:                   var(--dark1);\n",
      "    --text-highlight-bg:          rgba(163, 190, 140, 0.3); /* green */\n",
      "    --text-highlight-bg-active:   var(--green);\n",
      "    --interactive-accent:         var(--frost0);\n",
      "    --interactive-before:         var(--dark3);\n",
      "    --background-modifier-border: var(--dark2);\n",
      "    --text-accent:                var(--orange);\n",
      "    --interactive-accent-rgb:     var(--orange);\n",
      "    --inline-code:                var(--frost1);\n",
      "    --code-block:                 var(--frost1);\n",
      "    --vim-cursor:                 var(--orange);\n",
      "    --text-selection:             var(--dark3);\n",
      "    --text-tag:                   var(--frost0);\n",
      "    --task-checkbox:              var(--frost0);\n",
      "}\n"
     ]
    }
   ],
   "source": [
    "theme = find_block(css_file, r\"[.]theme-dark\")\n",
    "print(theme)"
   ]
  },
  {
   "cell_type": "code",
   "execution_count": 58,
   "metadata": {},
   "outputs": [
    {
     "name": "stdout",
     "output_type": "stream",
     "text": [
      ":root\n",
      "{\n",
      "    --dark0:  #2e3440;\n",
      "    --dark1:  #3b4252;\n",
      "    --dark2:  #434c5e;\n",
      "    --dark3:  #4c566a;\n",
      "\n",
      "    --light0: #d8dee9;\n",
      "    --light1: #e5e9f0;\n",
      "    --light2: #eceff4;\n",
      "    --light3: #ffffff;\n",
      "\n",
      "    --frost0: #8fbcbb;\n",
      "    --frost1: #88c0d0;\n",
      "    --frost2: #81a1c1;\n",
      "    --frost3: #5e81ac;\n",
      "\n",
      "    --red:    #bf616a;\n",
      "    --orange: #d08770;\n",
      "    --yellow: #ebcb8b;\n",
      "    --green:  #a3be8c;\n",
      "    --purple: #b48ead;\n",
      "    --red-rgb: 255, 69, 58;\n",
      "    --persent1: 10%;\n",
      "}\n"
     ]
    }
   ],
   "source": [
    "colors_block = find_block(css_file, r\"[:]root\")\n",
    "print(colors_block)"
   ]
  },
  {
   "cell_type": "code",
   "execution_count": 59,
   "metadata": {},
   "outputs": [
    {
     "data": {
      "text/plain": [
       "{'--dark0': '#2e3440',\n",
       " '--dark1': '#3b4252',\n",
       " '--dark2': '#434c5e',\n",
       " '--dark3': '#4c566a',\n",
       " '--light0': '#d8dee9',\n",
       " '--light1': '#e5e9f0',\n",
       " '--light2': '#eceff4',\n",
       " '--light3': '#ffffff',\n",
       " '--frost0': '#8fbcbb',\n",
       " '--frost1': '#88c0d0',\n",
       " '--frost2': '#81a1c1',\n",
       " '--frost3': '#5e81ac',\n",
       " '--red': '#bf616a',\n",
       " '--orange': '#d08770',\n",
       " '--yellow': '#ebcb8b',\n",
       " '--green': '#a3be8c',\n",
       " '--purple': '#b48ead',\n",
       " '--red-rgb': '255,69,58',\n",
       " '--persent1': '10%',\n",
       " '--background-primary': 'var(--light3)',\n",
       " '--background-primary-alt': 'var(--light3)',\n",
       " '--background-secondary': 'var(--light2)',\n",
       " '--background-secondary-alt': 'var(--light1)',\n",
       " '--text-normal': 'var(--dark1)',\n",
       " '--text-faint': 'var(--dark3)',\n",
       " '--text-muted': 'var(--dark2)',\n",
       " '--text-title-h1': 'var(--red)',\n",
       " '--text-title-h2': 'var(--orange)',\n",
       " '--text-title-h3': 'var(--yellow)',\n",
       " '--text-title-h4': 'var(--green)',\n",
       " '--text-title-h5': 'var(--purple)',\n",
       " '--text-title-h6': 'var(--orange)',\n",
       " '--text-link': 'var(--frost0)',\n",
       " '--text-a': 'var(--frost3)',\n",
       " '--text-a-hover': 'var(--frost1)',\n",
       " '--text-mark': 'rgba(136,192,208,0.3)',\n",
       " '--text-mark-extra': 'rgb(136,192,208)',\n",
       " '--pre-code': 'var(--light2)',\n",
       " '--text-highlight-bg': 'rgba(235,203,139,0.6)',\n",
       " '--text-highlight-bg-active': 'var(--yellow)',\n",
       " '--interactive-accent': 'var(--frost0)',\n",
       " '--interactive-before': 'var(--light0)',\n",
       " '--background-modifier-border': 'var(--light1)',\n",
       " '--text-accent': 'var(--orange)',\n",
       " '--interactive-accent-rgb': 'var(--orange)',\n",
       " '--inline-code': 'var(--frost1)',\n",
       " '--code-block': 'var(--frost1)',\n",
       " '--vim-cursor': 'var(--orange)',\n",
       " '--text-selection': 'var(--light0)',\n",
       " '--text-tag': 'var(--frost2)',\n",
       " '--task-checkbox': 'var(--frost0)',\n",
       " '--default-font': '-apple-system,BlinkMacSystemFont,SegoeUI,\\nHelvetica,Arial,sans-serif,AppleColorEmoji,\\nSegoeUIEmoji',\n",
       " '--editor-font': \"'HackNerdFont','SourceCodePro',\\nui-monospace,SFMono-Regular,SFMono,Menlo,\\nConsolas,LiberationMono,monospace\"}"
      ]
     },
     "execution_count": 59,
     "metadata": {},
     "output_type": "execute_result"
    }
   ],
   "source": [
    "def get_colors_dict(colors_block):\n",
    "    regex_string = r\"(--[a-zA-Z0-9\\-]*)[:]([^;]*)\" #r\"(--[^:]*)[:]([^;]*)\"\n",
    "    mathes = re.findall(regex_string, colors_block)\n",
    "    #print(mathes)\n",
    "    colors_dict = {}\n",
    "\n",
    "    for key, color in mathes:\n",
    "        colors_dict[key] = color.replace(' ','')\n",
    "\n",
    "    return colors_dict\n",
    "\n",
    "colors_dict = get_colors_dict(css_file)\n",
    "colors_dict"
   ]
  },
  {
   "cell_type": "code",
   "execution_count": 60,
   "metadata": {},
   "outputs": [
    {
     "name": "stdout",
     "output_type": "stream",
     "text": [
      "('background-primary', '         var(--dark0)')\n"
     ]
    }
   ],
   "source": [
    "regex_string = r\"--([^:]*)[:]([^;]*)\"\n",
    "match = re.findall(regex_string, theme)\n",
    "print(match[0])"
   ]
  },
  {
   "cell_type": "code",
   "execution_count": 61,
   "metadata": {},
   "outputs": [
    {
     "name": "stdout",
     "output_type": "stream",
     "text": [
      "--dark0 #2e3440\n",
      "--dark1 #3b4252\n",
      "--dark2 #434c5e\n",
      "--dark3 #4c566a\n",
      "--light0 #d8dee9\n",
      "--light1 #e5e9f0\n",
      "--light2 #eceff4\n",
      "--light3 #ffffff\n",
      "--frost0 #8fbcbb\n",
      "--frost1 #88c0d0\n",
      "--frost2 #81a1c1\n",
      "--frost3 #5e81ac\n",
      "--red #bf616a\n",
      "--orange #d08770\n",
      "--yellow #ebcb8b\n",
      "--green #a3be8c\n",
      "--purple #b48ead\n",
      "--red-rgb 255,69,58\n",
      "--persent1 25\n",
      "--background-primary #ffffff\n",
      "--background-primary-alt #ffffff\n",
      "--background-secondary #eceff4\n",
      "--background-secondary-alt #e5e9f0\n",
      "--text-normal #3b4252\n",
      "--text-faint #4c566a\n",
      "--text-muted #434c5e\n",
      "--text-title-h1 #bf616a\n",
      "--text-title-h2 #d08770\n",
      "--text-title-h3 #ebcb8b\n",
      "--text-title-h4 #a3be8c\n",
      "--text-title-h5 #b48ead\n",
      "--text-title-h6 #d08770\n",
      "--text-link #8fbcbb\n",
      "--text-a #5e81ac\n",
      "--text-a-hover #88c0d0\n",
      "--text-mark #88C0D04C\n",
      "--text-mark-extra #88C0D0\n",
      "--pre-code #eceff4\n",
      "--text-highlight-bg #EBCB8B99\n",
      "--text-highlight-bg-active #ebcb8b\n",
      "--interactive-accent #8fbcbb\n",
      "--interactive-before #d8dee9\n",
      "--background-modifier-border #e5e9f0\n",
      "--text-accent #d08770\n",
      "--interactive-accent-rgb #d08770\n",
      "--inline-code #88c0d0\n",
      "--code-block #88c0d0\n",
      "--vim-cursor #d08770\n",
      "--text-selection #d8dee9\n",
      "--text-tag #81a1c1\n",
      "--task-checkbox #8fbcbb\n",
      "--default-font -apple-system,BlinkMacSystemFont,SegoeUI,\n",
      "Helvetica,Arial,sans-serif,AppleColorEmoji,\n",
      "SegoeUIEmoji\n",
      "--editor-font 'HackNerdFont','SourceCodePro',\n",
      "ui-monospace,SFMono-Regular,SFMono,Menlo,\n",
      "Consolas,LiberationMono,monospace\n"
     ]
    }
   ],
   "source": [
    "def percents_to_number(value):\n",
    "    matches = re.findall(r\"\\d*%\", value)\n",
    "\n",
    "    for match in matches:\n",
    "        fraction = float(match.replace(\"%\", \"\"))\n",
    "        value = value.replace(match, str(int(255 * fraction * 0.01)))\n",
    "    return value\n",
    "\n",
    "def fraction_to_int(value):\n",
    "    matches = re.findall(r\"\\d*[.]\\d\", value)\n",
    "\n",
    "    for match in matches:\n",
    "        fraction = float(match)\n",
    "        if fraction <= 1.0:\n",
    "            value = value.replace(match, str(int(255 * fraction)))\n",
    "        else:\n",
    "            value = value.replace(match, str(int(fraction)))\n",
    "\n",
    "    return value\n",
    "\n",
    "def rgb_to_hex(vals):\n",
    "    if len(vals)!=3 and len(vals)!=4:\n",
    "        raise Exception(\"RGB or RGBA inputs to RGBtoHex must have three or four elements!\")\n",
    "    \n",
    "    #Ensure values are rounded integers, convert to hex, and concatenate\n",
    "    return '#'+ ''.join(['{:02X}'.format(int(x)) for x in vals])\n",
    "\n",
    "def look_up_values(value, colors_dict):\n",
    "    match_var = r\"(var\\((--[^)]*)\\))\"\n",
    "\n",
    "    # look up nested references *angry preprocessor sounds*\n",
    "    found = True\n",
    "    while found:\n",
    "        found = False\n",
    "\n",
    "        matches = re.findall(match_var, value)\n",
    "        \n",
    "\n",
    "        for match in matches:\n",
    "            to_replace = match[0]\n",
    "            variable = match[1]\n",
    "\n",
    "            if variable in colors_dict:\n",
    "                value = value.replace(to_replace, colors_dict[variable])\n",
    "                found = True\n",
    "\n",
    "    return value\n",
    "\n",
    "def replace_hex(value, regex):\n",
    "    matches = re.findall(regex, value)\n",
    "    for match in matches:\n",
    "        hex = rgb_to_hex(match[1:])\n",
    "        value = hex\n",
    "\n",
    "    return value\n",
    "\n",
    "\n",
    "def convert_to_hex(value):\n",
    "    match_var = r\"(rgba\\(([^,]*),([^,]*),([^,]*),([^)]*))\"\n",
    "\n",
    "    value = replace_hex(value, match_var)\n",
    "    \n",
    "    match_var = r\"(rgb\\(([^,]*),([^,]*),([^)]*))\"\n",
    "\n",
    "    value = replace_hex(value, match_var)\n",
    "\n",
    "    return value\n",
    "\n",
    "def deduce_color_value(value, colors_dict):\n",
    "    value = value.replace(' ', '')\n",
    "\n",
    "    value = look_up_values(value, colors_dict)\n",
    "    \n",
    "    value = percents_to_number(value)\n",
    "    value = fraction_to_int(value)\n",
    "\n",
    "    value = convert_to_hex(value)\n",
    "    \n",
    "    return value\n",
    "\n",
    "def get_theme_colors(colors_dict):\n",
    "    \n",
    "    for name, value in colors_dict.items():\n",
    "        #print(name)\n",
    "        deduced = deduce_color_value(value, colors_dict)\n",
    "        print(name + \" \" + deduced)\n",
    "    #print(match[0])\n",
    "\n",
    "get_theme_colors(colors_dict)"
   ]
  },
  {
   "cell_type": "code",
   "execution_count": null,
   "metadata": {},
   "outputs": [],
   "source": []
  },
  {
   "cell_type": "code",
   "execution_count": 43,
   "metadata": {},
   "outputs": [],
   "source": [
    "#from selenium import webdriver\n",
    "#driver = webdriver.Chrome()"
   ]
  },
  {
   "cell_type": "code",
   "execution_count": null,
   "metadata": {},
   "outputs": [],
   "source": []
  }
 ],
 "metadata": {
  "interpreter": {
   "hash": "0d083ba42aae9f9d11237e0be732a28f2bf1430ce107b8104c51f88075f06857"
  },
  "kernelspec": {
   "display_name": "Python 3.9.7 64-bit",
   "language": "python",
   "name": "python3"
  },
  "language_info": {
   "codemirror_mode": {
    "name": "ipython",
    "version": 3
   },
   "file_extension": ".py",
   "mimetype": "text/x-python",
   "name": "python",
   "nbconvert_exporter": "python",
   "pygments_lexer": "ipython3",
   "version": "3.9.7"
  },
  "orig_nbformat": 4
 },
 "nbformat": 4,
 "nbformat_minor": 2
}
